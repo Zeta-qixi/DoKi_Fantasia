{
 "cells": [
  {
   "cell_type": "code",
   "execution_count": 6,
   "metadata": {},
   "outputs": [
    {
     "name": "stdout",
     "output_type": "stream",
     "text": [
      "https://wiki.biligame.com/arknights/黍\n"
     ]
    }
   ],
   "source": [
    "import os\n",
    "import requests\n",
    "from bs4 import BeautifulSoup\n",
    "from abc import ABC, abstractmethod\n",
    "from concurrent.futures import ThreadPoolExecutor\n",
    "import logging\n",
    "from requester import requester\n",
    "\n",
    "import sys\n",
    "import os\n",
    "sys.path.append('..')\n",
    "from Character.ArkNightCharacter import Character_Info\n",
    "from Handler import FileHandler\n",
    "\n",
    "role = '黍'\n",
    "wiki = 'https://wiki.biligame.com/arknights'\n",
    "url = f'{wiki}/{role}'\n",
    "print(url)"
   ]
  },
  {
   "cell_type": "code",
   "execution_count": 8,
   "metadata": {},
   "outputs": [],
   "source": [
    "\n",
    "html = requester.get(url)\n",
    "soup = BeautifulSoup(html, 'html.parser')\n",
    "data = soup.find_all('table', {'class': 'wikitable', \n",
    "                        'class': 'mw-collapsible',\n",
    "                        'class': 'mw-made-collapsible',\n",
    "                        'class': 'logo'}) \n",
    "\n"
   ]
  },
  {
   "cell_type": "code",
   "execution_count": 9,
   "metadata": {},
   "outputs": [
    {
     "data": {
      "text/plain": [
       "[]"
      ]
     },
     "execution_count": 9,
     "metadata": {},
     "output_type": "execute_result"
    }
   ],
   "source": [
    "data"
   ]
  },
  {
   "cell_type": "code",
   "execution_count": null,
   "metadata": {},
   "outputs": [],
   "source": []
  }
 ],
 "metadata": {
  "kernelspec": {
   "display_name": "py310",
   "language": "python",
   "name": "python3"
  },
  "language_info": {
   "codemirror_mode": {
    "name": "ipython",
    "version": 3
   },
   "file_extension": ".py",
   "mimetype": "text/x-python",
   "name": "python",
   "nbconvert_exporter": "python",
   "pygments_lexer": "ipython3",
   "version": "3.10.10"
  }
 },
 "nbformat": 4,
 "nbformat_minor": 2
}
